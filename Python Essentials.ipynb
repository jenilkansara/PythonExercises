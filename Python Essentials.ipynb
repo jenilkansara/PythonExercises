{
 "cells": [
  {
   "cell_type": "markdown",
   "metadata": {},
   "source": [
    "# Homework #1 "
   ]
  },
  {
   "cell_type": "markdown",
   "metadata": {},
   "source": [
    "## Exercise #1"
   ]
  },
  {
   "cell_type": "markdown",
   "metadata": {},
   "source": [
    "### Step 1.1"
   ]
  },
  {
   "cell_type": "code",
   "execution_count": 1,
   "metadata": {},
   "outputs": [
    {
     "name": "stdout",
     "output_type": "stream",
     "text": [
      "original string: ABCDEFGHIJKLMNOPQRSTUVWXYZ\n",
      "shifted string: BCDEFGHIJKLMNOPQRSTUVWXYZA\n",
      "{'A': 'B', 'B': 'C', 'C': 'D', 'D': 'E', 'E': 'F', 'F': 'G', 'G': 'H', 'H': 'I', 'I': 'J', 'J': 'K', 'K': 'L', 'L': 'M', 'M': 'N', 'N': 'O', 'O': 'P', 'P': 'Q', 'Q': 'R', 'R': 'S', 'S': 'T', 'T': 'U', 'U': 'V', 'V': 'W', 'W': 'X', 'X': 'Y', 'Y': 'Z', 'Z': 'A'}\n"
     ]
    }
   ],
   "source": [
    "#Defining the function shift_alpha() which takes an alphabet string (A) and a shift constant with a default value of 0 and prints the original and shifted string, and returns a dictionary that contains each original letter as the key and the encrypted letter as the value.\n",
    "def shift_alpha(A, shift=0):\n",
    "    print('original string: ' + A)\n",
    "    shifted_A = ''\n",
    "    my_dictionary = {}\n",
    "    \n",
    "    #running a for loop on each character of the string\n",
    "    for i in range(len(A)): \n",
    "        character = A[i]\n",
    "        \n",
    "        #Here, ord() returns the ASCII value of the character, and chr() returns the character for a particular ASCII value.\n",
    "        shifted_char = chr((ord(character) + shift-65) % 26 + 65)\n",
    "        \n",
    "        #concatinating the shifted character to the shifted string\n",
    "        shifted_A += shifted_char \n",
    "        \n",
    "        #updating the keys and the values in the dictionary\n",
    "        my_dictionary.update({character:shifted_char})\n",
    "        \n",
    "    print('shifted string: ' +shifted_A)\n",
    "    print(my_dictionary)\n",
    "    \n",
    "shift_alpha('ABCDEFGHIJKLMNOPQRSTUVWXYZ',1)"
   ]
  },
  {
   "cell_type": "markdown",
   "metadata": {},
   "source": [
    "### Step 1.2"
   ]
  },
  {
   "cell_type": "code",
   "execution_count": 2,
   "metadata": {},
   "outputs": [
    {
     "name": "stdout",
     "output_type": "stream",
     "text": [
      "original string: ANALYTICS\n",
      "shifted string: ANALYTICS\n",
      "{'A': 'A', 'N': 'N', 'L': 'L', 'Y': 'Y', 'T': 'T', 'I': 'I', 'C': 'C', 'S': 'S'}\n"
     ]
    }
   ],
   "source": [
    "#encrypting the string 'ANALYTICS' with the shift of 0\n",
    "shift_alpha('ANALYTICS',0)"
   ]
  },
  {
   "cell_type": "markdown",
   "metadata": {},
   "source": [
    "### Step 1.3"
   ]
  },
  {
   "cell_type": "code",
   "execution_count": 3,
   "metadata": {},
   "outputs": [
    {
     "name": "stdout",
     "output_type": "stream",
     "text": [
      "original string: ANALYTICS\n",
      "shifted string: PCPANIXRH\n",
      "{'A': 'P', 'N': 'C', 'L': 'A', 'Y': 'N', 'T': 'I', 'I': 'X', 'C': 'R', 'S': 'H'}\n"
     ]
    }
   ],
   "source": [
    "#encrypting the string 'ANALYTICS' with the shift of -11\n",
    "shift_alpha('ANALYTICS',-11)"
   ]
  },
  {
   "cell_type": "markdown",
   "metadata": {},
   "source": [
    "### Step 1.4"
   ]
  },
  {
   "cell_type": "code",
   "execution_count": 4,
   "metadata": {},
   "outputs": [
    {
     "name": "stdout",
     "output_type": "stream",
     "text": [
      "original string: ANALYTICS\n",
      "shifted string: HUHSFAPJZ\n",
      "{'A': 'H', 'N': 'U', 'L': 'S', 'Y': 'F', 'T': 'A', 'I': 'P', 'C': 'J', 'S': 'Z'}\n"
     ]
    }
   ],
   "source": [
    "#encrypting the string 'ANALYTICS' with the shift of 7\n",
    "shift_alpha('ANALYTICS',7)"
   ]
  },
  {
   "cell_type": "markdown",
   "metadata": {},
   "source": [
    "## Exercise #2"
   ]
  },
  {
   "cell_type": "markdown",
   "metadata": {},
   "source": [
    "### Step 2.1"
   ]
  },
  {
   "cell_type": "code",
   "execution_count": 5,
   "metadata": {},
   "outputs": [],
   "source": [
    "#Defining the function encrypt() which in an alphabet string (A), which can be with upper and lower case characters, and a shift constant with a default value of 0 and prints the original and shifted string.\n",
    "def encrypt (A, shift=0):\n",
    "    print('original string: ' + A)\n",
    "    shifted_A=''\n",
    "    \n",
    "    #running a for loop on each character of the string\n",
    "    for i in range(len(A)): \n",
    "        character=A[i]\n",
    "        \n",
    "        #checking if the character is upper case, lower case, or a special character, and shifting accordingly\n",
    "        if (character.isupper()):\n",
    "            shifted_char=chr((ord(character)+shift-65)%26+65)\n",
    "        elif(character.islower()):\n",
    "            shifted_char=chr((ord(character)+shift-97)%26+97)\n",
    "        else:\n",
    "            shifted_char=character\n",
    "            \n",
    "        #concatinating the shifted character to the shifted string\n",
    "        shifted_A+=shifted_char \n",
    "        \n",
    "    print('shifted string: '+shifted_A) "
   ]
  },
  {
   "cell_type": "code",
   "execution_count": 6,
   "metadata": {},
   "outputs": [
    {
     "name": "stdout",
     "output_type": "stream",
     "text": [
      "original string: HeLLo *\n",
      "shifted string: JgNNq *\n"
     ]
    }
   ],
   "source": [
    "#encrypting the string 'HeLLo *' with a shift of 2\n",
    "encrypt('HeLLo *', 2) "
   ]
  },
  {
   "cell_type": "markdown",
   "metadata": {},
   "source": [
    "### Step 2.2"
   ]
  },
  {
   "cell_type": "code",
   "execution_count": 7,
   "metadata": {},
   "outputs": [
    {
     "name": "stdout",
     "output_type": "stream",
     "text": [
      "original string: Ms. DaHLin :-)\n",
      "shifted string: Kq. ByFJgl :-)\n"
     ]
    }
   ],
   "source": [
    "#encrypting the string 'Ms. DaHLin :-)' with a shift of -2\n",
    "encrypt('Ms. DaHLin :-)', -2) "
   ]
  },
  {
   "cell_type": "markdown",
   "metadata": {},
   "source": [
    "### Step 2.3"
   ]
  },
  {
   "cell_type": "code",
   "execution_count": 8,
   "metadata": {},
   "outputs": [
    {
     "name": "stdout",
     "output_type": "stream",
     "text": [
      "original string: Billie Eilish\n",
      "shifted string: Gnqqnj Jnqnxm\n",
      "original string: Maryland\n",
      "shifted string: Rfwdqfsi\n",
      "original string: Route 1\n",
      "shifted string: Wtzyj 1\n",
      "original string: LaTeX\n",
      "shifted string: QfYjC\n",
      "original string: twenty-first century\n",
      "shifted string: ybjsyd-knwxy hjsyzwd\n"
     ]
    }
   ],
   "source": [
    "#Declaring a list with 5 given strings\n",
    "list = ['Billie Eilish', 'Maryland', 'Route 1', 'LaTeX', 'twenty-first century']\n",
    "\n",
    "#running a for loop on the list to encrypt the strings with a shift of 5 using encrypt()\n",
    "for i in range(len(list)):\n",
    "    encrypt(list[i], 5) "
   ]
  },
  {
   "cell_type": "markdown",
   "metadata": {},
   "source": [
    "# Exercise #3"
   ]
  },
  {
   "cell_type": "markdown",
   "metadata": {},
   "source": [
    "### Step 3.1"
   ]
  },
  {
   "cell_type": "code",
   "execution_count": 9,
   "metadata": {},
   "outputs": [],
   "source": [
    "#Defining the function decrypt(), which in an alphabet string (A) and prints the original \n",
    "def decrypt (A):\n",
    "    print('Original Message: ' + A)\n",
    "    original_A=''\n",
    "    key=1\n",
    "    \n",
    "    #finding out strings for all the values of shift ranging from -12 to 13\n",
    "    for shift in range(-12,13):\n",
    "        \n",
    "        #running a for loop on each character of the string\n",
    "        for i in range(len(A)): \n",
    "            character=A[i]\n",
    "            \n",
    "            #checking if the character is upper case, lower case, or a special character, and shifting accordingly\n",
    "            if (character.isupper()):\n",
    "                shifted_char=chr((ord(character)-shift-65)%26+65)\n",
    "            elif(character.islower()):\n",
    "                shifted_char=chr((ord(character)-shift-97)%26+97)\n",
    "            else:\n",
    "                shifted_char=character\n",
    "            original_A+=shifted_char \n",
    "        print(str(key)+ \": \" + original_A)\n",
    "        original_A=''\n",
    "        key=key+1"
   ]
  },
  {
   "cell_type": "code",
   "execution_count": 10,
   "metadata": {},
   "outputs": [
    {
     "name": "stdout",
     "output_type": "stream",
     "text": [
      "Original Message: G jmtc Kq. Byfjgl'q ajyqq.\n",
      "1: S vyfo Wc. Nkrvsx'c mvkcc.\n",
      "2: R uxen Vb. Mjqurw'b lujbb.\n",
      "3: Q twdm Ua. Liptqv'a ktiaa.\n",
      "4: P svcl Tz. Khospu'z jshzz.\n",
      "5: O rubk Sy. Jgnrot'y irgyy.\n",
      "6: N qtaj Rx. Ifmqns'x hqfxx.\n",
      "7: M pszi Qw. Helpmr'w gpeww.\n",
      "8: L oryh Pv. Gdkolq'v fodvv.\n",
      "9: K nqxg Ou. Fcjnkp'u encuu.\n",
      "10: J mpwf Nt. Ebimjo't dmbtt.\n",
      "11: I love Ms. Dahlin's class.\n",
      "12: H knud Lr. Czgkhm'r bkzrr.\n",
      "13: G jmtc Kq. Byfjgl'q ajyqq.\n",
      "14: F ilsb Jp. Axeifk'p zixpp.\n",
      "15: E hkra Io. Zwdhej'o yhwoo.\n",
      "16: D gjqz Hn. Yvcgdi'n xgvnn.\n",
      "17: C fipy Gm. Xubfch'm wfumm.\n",
      "18: B ehox Fl. Wtaebg'l vetll.\n",
      "19: A dgnw Ek. Vszdaf'k udskk.\n",
      "20: Z cfmv Dj. Urycze'j tcrjj.\n",
      "21: Y belu Ci. Tqxbyd'i sbqii.\n",
      "22: X adkt Bh. Spwaxc'h raphh.\n",
      "23: W zcjs Ag. Rovzwb'g qzogg.\n",
      "24: V ybir Zf. Qnuyva'f pynff.\n",
      "25: U xahq Ye. Pmtxuz'e oxmee.\n"
     ]
    }
   ],
   "source": [
    "#decrypting the given string\n",
    "decrypt(\"G jmtc Kq. Byfjgl'q ajyqq.\")"
   ]
  },
  {
   "cell_type": "markdown",
   "metadata": {},
   "source": [
    "### Step 3.2"
   ]
  },
  {
   "cell_type": "code",
   "execution_count": 11,
   "metadata": {},
   "outputs": [],
   "source": [
    "#putting the encrypted philosophical quotes into strings\n",
    "aristotle_quote = \"Swcnkva ku pqv cp cev, kv ku c jcdkv.\"\n",
    "demosthenes_quote = \"Dxlww zaazcefytetpd lcp zqepy esp mprtyytyr zq rcple pyepcactdpd.\"\n",
    "hypatia_quote = \"Fczy cm uh ohzifxgyhn, uhx nby zolnbyl qy nlupyf nby gily nlonb qy wuh wigjlybyhx. Ni ohxylmnuhx nby nbcham nbun uly un iol xiil cm nby vymn jlyjuluncih zil ohxylmnuhxcha nbimy nbun fcy vysihx.\""
   ]
  },
  {
   "cell_type": "markdown",
   "metadata": {},
   "source": [
    "### Step 3.2.a"
   ]
  },
  {
   "cell_type": "code",
   "execution_count": 12,
   "metadata": {},
   "outputs": [
    {
     "name": "stdout",
     "output_type": "stream",
     "text": [
      "Original Message: Swcnkva ku pqv cp cev, kv ku c jcdkv.\n",
      "1: Eiozwhm wg bch ob oqh, wh wg o vopwh.\n",
      "2: Dhnyvgl vf abg na npg, vg vf n unovg.\n",
      "3: Cgmxufk ue zaf mz mof, uf ue m tmnuf.\n",
      "4: Bflwtej td yze ly lne, te td l slmte.\n",
      "5: Aekvsdi sc xyd kx kmd, sd sc k rklsd.\n",
      "6: Zdjurch rb wxc jw jlc, rc rb j qjkrc.\n",
      "7: Ycitqbg qa vwb iv ikb, qb qa i pijqb.\n",
      "8: Xbhspaf pz uva hu hja, pa pz h ohipa.\n",
      "9: Wagroze oy tuz gt giz, oz oy g nghoz.\n",
      "10: Vzfqnyd nx sty fs fhy, ny nx f mfgny.\n",
      "11: Uyepmxc mw rsx er egx, mx mw e lefmx.\n",
      "12: Txdolwb lv qrw dq dfw, lw lv d kdelw.\n",
      "13: Swcnkva ku pqv cp cev, kv ku c jcdkv.\n",
      "14: Rvbmjuz jt opu bo bdu, ju jt b ibcju.\n",
      "15: Quality is not an act, it is a habit.\n",
      "16: Ptzkhsx hr mns zm zbs, hs hr z gzahs.\n",
      "17: Osyjgrw gq lmr yl yar, gr gq y fyzgr.\n",
      "18: Nrxifqv fp klq xk xzq, fq fp x exyfq.\n",
      "19: Mqwhepu eo jkp wj wyp, ep eo w dwxep.\n",
      "20: Lpvgdot dn ijo vi vxo, do dn v cvwdo.\n",
      "21: Koufcns cm hin uh uwn, cn cm u buvcn.\n",
      "22: Jntebmr bl ghm tg tvm, bm bl t atubm.\n",
      "23: Imsdalq ak fgl sf sul, al ak s zstal.\n",
      "24: Hlrczkp zj efk re rtk, zk zj r yrszk.\n",
      "25: Gkqbyjo yi dej qd qsj, yj yi q xqryj.\n"
     ]
    }
   ],
   "source": [
    "#decryption of the given philosophical quote\n",
    "decrypt(aristotle_quote)"
   ]
  },
  {
   "cell_type": "markdown",
   "metadata": {},
   "source": [
    "Shift #15: Quality is not an act, it is a habit."
   ]
  },
  {
   "cell_type": "markdown",
   "metadata": {},
   "source": [
    "### Step 3.2.b"
   ]
  },
  {
   "cell_type": "code",
   "execution_count": 13,
   "metadata": {},
   "outputs": [
    {
     "name": "stdout",
     "output_type": "stream",
     "text": [
      "Original Message: Dxlww zaazcefytetpd lcp zqepy esp mprtyytyr zq rcple pyepcactdpd.\n",
      "1: Pjxii lmmloqrkfqfbp xob lcqbk qeb ybdfkkfkd lc dobxq bkqbomofpbp.\n",
      "2: Oiwhh kllknpqjepeao wna kbpaj pda xacejjejc kb cnawp ajpanlneoao.\n",
      "3: Nhvgg jkkjmopidodzn vmz jaozi ocz wzbdiidib ja bmzvo ziozmkmdnzn.\n",
      "4: Mguff ijjilnohcncym uly iznyh nby vyachhcha iz alyun yhnyljlcmym.\n",
      "5: Lftee hiihkmngbmbxl tkx hymxg max uxzbggbgz hy zkxtm xgmxkikblxl.\n",
      "6: Kesdd ghhgjlmfalawk sjw gxlwf lzw twyaffafy gx yjwsl wflwjhjakwk.\n",
      "7: Jdrcc fggfiklezkzvj riv fwkve kyv svxzeezex fw xivrk vekvigizjvj.\n",
      "8: Icqbb effehjkdyjyui qhu evjud jxu ruwyddydw ev whuqj udjuhfhyiui.\n",
      "9: Hbpaa deedgijcxixth pgt duitc iwt qtvxccxcv du vgtpi tcitgegxhth.\n",
      "10: Gaozz cddcfhibwhwsg ofs cthsb hvs psuwbbwbu ct ufsoh sbhsfdfwgsg.\n",
      "11: Fznyy bccbeghavgvrf ner bsgra gur ortvaavat bs terng ragrecevfrf.\n",
      "12: Eymxx abbadfgzufuqe mdq arfqz ftq nqsuzzuzs ar sdqmf qzfqdbdueqe.\n",
      "13: Dxlww zaazcefytetpd lcp zqepy esp mprtyytyr zq rcple pyepcactdpd.\n",
      "14: Cwkvv yzzybdexsdsoc kbo ypdox dro loqsxxsxq yp qbokd oxdobzbscoc.\n",
      "15: Bvjuu xyyxacdwrcrnb jan xocnw cqn knprwwrwp xo panjc nwcnayarbnb.\n",
      "16: Auitt wxxwzbcvqbqma izm wnbmv bpm jmoqvvqvo wn ozmib mvbmzxzqama.\n",
      "17: Zthss vwwvyabupaplz hyl vmalu aol ilnpuupun vm nylha lualywypzlz.\n",
      "18: Ysgrr uvvuxzatozoky gxk ulzkt znk hkmottotm ul mxkgz ktzkxvxoyky.\n",
      "19: Xrfqq tuutwyzsnynjx fwj tkyjs ymj gjlnssnsl tk lwjfy jsyjwuwnxjx.\n",
      "20: Wqepp sttsvxyrmxmiw evi sjxir xli fikmrrmrk sj kviex irxivtvmwiw.\n",
      "21: Vpdoo rssruwxqlwlhv duh riwhq wkh ehjlqqlqj ri juhdw hqwhusulvhv.\n",
      "22: Uocnn qrrqtvwpkvkgu ctg qhvgp vjg dgikppkpi qh itgcv gpvgtrtkugu.\n",
      "23: Tnbmm pqqpsuvojujft bsf pgufo uif cfhjoojoh pg hsfbu foufsqsjtft.\n",
      "24: Small opportunities are often the beginning of great enterprises.\n",
      "25: Rlzkk noonqstmhshdr zqd nesdm sgd adfhmmhmf ne fqdzs dmsdqoqhrdr.\n"
     ]
    }
   ],
   "source": [
    "#decryption of the given philosophical quotes\n",
    "decrypt(demosthenes_quote)"
   ]
  },
  {
   "cell_type": "markdown",
   "metadata": {},
   "source": [
    "### Step 3.2.c"
   ]
  },
  {
   "cell_type": "markdown",
   "metadata": {},
   "source": [
    "Shift #24: Small opportunities are often the beginning of great enterprises."
   ]
  },
  {
   "cell_type": "code",
   "execution_count": 14,
   "metadata": {},
   "outputs": [
    {
     "name": "stdout",
     "output_type": "stream",
     "text": [
      "Original Message: Fczy cm uh ohzifxgyhn, uhx nby zolnbyl qy nlupyf nby gily nlonb qy wuh wigjlybyhx. Ni ohxylmnuhx nby nbcham nbun uly un iol xiil cm nby vymn jlyjuluncih zil ohxylmnuhxcha nbimy nbun fcy vysihx.\n",
      "1: Rolk oy gt atlurjsktz, gtj znk laxznkx ck zxgbkr znk suxk zxazn ck igt iusvxknktj. Zu atjkxyzgtj znk znotmy zngz gxk gz uax juux oy znk hkyz vxkvgxgzout lux atjkxyzgtjotm znuyk zngz rok hkeutj.\n",
      "2: Qnkj nx fs zsktqirjsy, fsi ymj kzwymjw bj ywfajq ymj rtwj ywzym bj hfs htruwjmjsi. Yt zsijwxyfsi ymj ymnslx ymfy fwj fy tzw ittw nx ymj gjxy uwjufwfynts ktw zsijwxyfsinsl ymtxj ymfy qnj gjdtsi.\n",
      "3: Pmji mw er yrjsphqirx, erh xli jyvxliv ai xvezip xli qsvi xvyxl ai ger gsqtvilirh. Xs yrhivwxerh xli xlmrkw xlex evi ex syv hssv mw xli fiwx tvitevexmsr jsv yrhivwxerhmrk xlswi xlex pmi ficsrh.\n",
      "4: Olih lv dq xqirogphqw, dqg wkh ixuwkhu zh wudyho wkh pruh wuxwk zh fdq frpsuhkhqg. Wr xqghuvwdqg wkh wklqjv wkdw duh dw rxu grru lv wkh ehvw suhsdudwlrq iru xqghuvwdqglqj wkrvh wkdw olh ehbrqg.\n",
      "5: Nkhg ku cp wphqnfogpv, cpf vjg hwtvjgt yg vtcxgn vjg oqtg vtwvj yg ecp eqortgjgpf. Vq wpfgtuvcpf vjg vjkpiu vjcv ctg cv qwt fqqt ku vjg dguv rtgrctcvkqp hqt wpfgtuvcpfkpi vjqug vjcv nkg dgaqpf.\n",
      "6: Mjgf jt bo vogpmenfou, boe uif gvsuifs xf usbwfm uif npsf usvui xf dbo dpnqsfifoe. Up voefstuboe uif uijoht uibu bsf bu pvs epps jt uif cftu qsfqbsbujpo gps voefstuboejoh uiptf uibu mjf cfzpoe.\n",
      "7: Life is an unfoldment, and the further we travel the more truth we can comprehend. To understand the things that are at our door is the best preparation for understanding those that lie beyond.\n",
      "8: Khed hr zm tmenkcldms, zmc sgd etqsgdq vd sqzudk sgd lnqd sqtsg vd bzm bnloqdgdmc. Sn tmcdqrszmc sgd sghmfr sgzs zqd zs ntq cnnq hr sgd adrs oqdozqzshnm enq tmcdqrszmchmf sgnrd sgzs khd adxnmc.\n",
      "9: Jgdc gq yl sldmjbkclr, ylb rfc dsprfcp uc rpytcj rfc kmpc rpsrf uc ayl amknpcfclb. Rm slbcpqrylb rfc rfgleq rfyr ypc yr msp bmmp gq rfc zcqr npcnypyrgml dmp slbcpqrylbgle rfmqc rfyr jgc zcwmlb.\n",
      "10: Ifcb fp xk rkcliajbkq, xka qeb croqebo tb qoxsbi qeb jlob qorqe tb zxk zljmobebka. Ql rkabopqxka qeb qefkdp qexq xob xq lro allo fp qeb ybpq mobmxoxqflk clo rkabopqxkafkd qelpb qexq ifb ybvlka.\n",
      "11: Heba eo wj qjbkhziajp, wjz pda bqnpdan sa pnwrah pda ikna pnqpd sa ywj ykilnadajz. Pk qjzanopwjz pda pdejco pdwp wna wp kqn zkkn eo pda xaop lnalwnwpekj bkn qjzanopwjzejc pdkoa pdwp hea xaukjz.\n",
      "12: Gdaz dn vi piajgyhzio, viy ocz apmoczm rz omvqzg ocz hjmz ompoc rz xvi xjhkmzcziy. Oj piyzmnoviy ocz ocdibn ocvo vmz vo jpm yjjm dn ocz wzno kmzkvmvodji ajm piyzmnoviydib ocjnz ocvo gdz wztjiy.\n",
      "13: Fczy cm uh ohzifxgyhn, uhx nby zolnbyl qy nlupyf nby gily nlonb qy wuh wigjlybyhx. Ni ohxylmnuhx nby nbcham nbun uly un iol xiil cm nby vymn jlyjuluncih zil ohxylmnuhxcha nbimy nbun fcy vysihx.\n",
      "14: Ebyx bl tg ngyhewfxgm, tgw max ynkmaxk px mktoxe max fhkx mknma px vtg vhfikxaxgw. Mh ngwxklmtgw max mabgzl matm tkx tm hnk whhk bl max uxlm ikxitktmbhg yhk ngwxklmtgwbgz mahlx matm ebx uxrhgw.\n",
      "15: Daxw ak sf mfxgdvewfl, sfv lzw xmjlzwj ow ljsnwd lzw egjw ljmlz ow usf ugehjwzwfv. Lg mfvwjklsfv lzw lzafyk lzsl sjw sl gmj vggj ak lzw twkl hjwhsjslagf xgj mfvwjklsfvafy lzgkw lzsl daw twqgfv.\n",
      "16: Czwv zj re lewfcudvek, reu kyv wlikyvi nv kirmvc kyv dfiv kilky nv tre tfdgivyveu. Kf leuvijkreu kyv kyzexj kyrk riv rk fli uffi zj kyv svjk givgrirkzfe wfi leuvijkreuzex kyfjv kyrk czv svpfeu.\n",
      "17: Byvu yi qd kdvebtcudj, qdt jxu vkhjxuh mu jhqlub jxu cehu jhkjx mu sqd secfhuxudt. Je kdtuhijqdt jxu jxydwi jxqj qhu qj ekh teeh yi jxu ruij fhufqhqjyed veh kdtuhijqdtydw jxeiu jxqj byu ruoedt.\n",
      "18: Axut xh pc jcudasbtci, pcs iwt ujgiwtg lt igpkta iwt bdgt igjiw lt rpc rdbegtwtcs. Id jcstghipcs iwt iwxcvh iwpi pgt pi djg sddg xh iwt qthi egtepgpixdc udg jcstghipcsxcv iwdht iwpi axt qtndcs.\n",
      "19: Zwts wg ob ibtczrasbh, obr hvs tifhvsf ks hfojsz hvs acfs hfihv ks qob qcadfsvsbr. Hc ibrsfghobr hvs hvwbug hvoh ofs oh cif rccf wg hvs psgh dfsdofohwcb tcf ibrsfghobrwbu hvcgs hvoh zws psmcbr.\n",
      "20: Yvsr vf na hasbyqzrag, naq gur shegure jr geniry gur zber gehgu jr pna pbzceruraq. Gb haqrefgnaq gur guvatf gung ner ng bhe qbbe vf gur orfg cercnengvba sbe haqrefgnaqvat gubfr gung yvr orlbaq.\n",
      "21: Xurq ue mz gzraxpyqzf, mzp ftq rgdftqd iq fdmhqx ftq yadq fdgft iq omz oaybdqtqzp. Fa gzpqdefmzp ftq ftuzse ftmf mdq mf agd paad ue ftq nqef bdqbmdmfuaz rad gzpqdefmzpuzs ftaeq ftmf xuq nqkazp.\n",
      "22: Wtqp td ly fyqzwoxpye, lyo esp qfcespc hp eclgpw esp xzcp ecfes hp nly nzxacpspyo. Ez fyopcdelyo esp estyrd esle lcp le zfc ozzc td esp mpde acpalcletzy qzc fyopcdelyotyr eszdp esle wtp mpjzyo.\n",
      "23: Vspo sc kx expyvnwoxd, kxn dro pebdrob go dbkfov dro wybo dbedr go mkx mywzboroxn. Dy exnobcdkxn dro drsxqc drkd kbo kd yeb nyyb sc dro locd zbozkbkdsyx pyb exnobcdkxnsxq dryco drkd vso loiyxn.\n",
      "24: Uron rb jw dwoxumvnwc, jwm cqn odacqna fn cajenu cqn vxan cadcq fn ljw lxvyanqnwm. Cx dwmnabcjwm cqn cqrwpb cqjc jan jc xda mxxa rb cqn knbc yanyjajcrxw oxa dwmnabcjwmrwp cqxbn cqjc urn knhxwm.\n",
      "25: Tqnm qa iv cvnwtlumvb, ivl bpm nczbpmz em bzidmt bpm uwzm bzcbp em kiv kwuxzmpmvl. Bw cvlmzabivl bpm bpqvoa bpib izm ib wcz lwwz qa bpm jmab xzmxizibqwv nwz cvlmzabivlqvo bpwam bpib tqm jmgwvl.\n"
     ]
    }
   ],
   "source": [
    "#decryption of the given philosophical quotes\n",
    "decrypt(hypatia_quote)"
   ]
  },
  {
   "cell_type": "markdown",
   "metadata": {},
   "source": [
    "Shift#7: Life is an unfoldment, and the further we travel the more truth we can comprehend. To understand the things that are at our door is the best preparation for understanding those that lie beyond."
   ]
  }
 ],
 "metadata": {
  "kernelspec": {
   "display_name": "Python 3",
   "language": "python",
   "name": "python3"
  },
  "language_info": {
   "codemirror_mode": {
    "name": "ipython",
    "version": 3
   },
   "file_extension": ".py",
   "mimetype": "text/x-python",
   "name": "python",
   "nbconvert_exporter": "python",
   "pygments_lexer": "ipython3",
   "version": "3.7.3"
  }
 },
 "nbformat": 4,
 "nbformat_minor": 2
}
